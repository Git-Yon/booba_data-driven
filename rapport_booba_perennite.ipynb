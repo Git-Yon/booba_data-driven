{
 "cells": [
  {
   "cell_type": "markdown",
   "metadata": {},
   "source": [
    "# La pérennité de Booba dans le rap français : une analyse data-driven"
   ]
  },
  {
   "cell_type": "markdown",
   "metadata": {},
   "source": [
    "## Introduction\n",
    "\n",
    "Booba est l'une des figures les plus marquantes du rap français, avec une carrière s'étalant sur plus de deux décennies. Ce rapport analyse les raisons de sa longévité à travers une exploration data-driven de son catalogue : structure des morceaux, évolutions thématiques, stratégie de collaboration, et impact de ses choix artistiques sur sa popularité."
   ]
  },
  {
   "cell_type": "markdown",
   "metadata": {},
   "source": [
    "## 1. Évolution de l’écriture et des thématiques\n",
    "\n",
    "### Style d’écriture\n",
    "\n",
    "- **Richesse lexicale** : L'utilisation des adjectifs est restée stable, mais l’usage des adverbes a **augmenté de 19,1 %**.  \n",
    "Cette augmentation significative montre une évolution technique dans l'écriture de Booba, passant d'un style plus direct à un style plus élaboré et nuancé, ce qui peut expliquer en partie sa longévité : sa capacité à faire évoluer et enrichir son écriture.\n",
    "\n",
    "- **Longueur des phrases** : Une baisse de la longueur moyenne des phrases (-15,1 %) indique une écriture plus concise.\n",
    "- **Les thématiques** évoluent avec l’actualité et l’âge de l’artiste.\n",
    "\n",
    "\n",
    "\n",
    "L'évolution linguistique de Booba montre une sophistication progressive de son écriture. L'augmentation de 19,1% des adverbes, couplée à une réduction de 15,1% de la longueur des phrases, révèle un style plus percutant et précis. Cette évolution n'est pas anodine : elle démontre une maîtrise croissante de la langue où la concision n'empêche pas la richesse descriptive. C'est la marque d'un artiste qui a su affiner son outil linguistique tout en s'adaptant aux codes modernes.\n",
    "\n",
    "![heatmap_themes_par_periode.png](heatmap_theme1.png)"
   ]
  },
  {
   "cell_type": "markdown",
   "metadata": {},
   "source": [
    "## 2. Structure musicale et adaptation au format\n",
    "\n",
    "- **Durée moyenne** : de 3.50 min (avant 2010) à 3.30 min (après 2010) à 3min en 2024.\n",
    "- **Structures fréquentes** : intro/couplets/refrains/outro avec une variabilité croissante.\n",
    "\n",
    "L'adaptation du format musical, passant de 3:50 à 3:00 minutes, n'est pas qu'une simple réduction temporelle. Elle s'accompagne d'une densification du contenu linguistique, visible dans les structures plus variées des morceaux récents. Cette évolution montre une capacité à concentrer le message sans perdre en impact, une compétence cruciale à l'ère du streaming.\n",
    "\n",
    "![boxplot_duree_morceaux.png](boxplot_durée_année.png)\n",
    "\n",
    "![barplot_structure_morceaux.png](plot_pattern.png)"
   ]
  },
  {
   "cell_type": "markdown",
   "metadata": {},
   "source": [
    "## 3. Collaborations stratégiques\n",
    "\n",
    "### Réseau de collaborations\n",
    "\n",
    "\"Le réseau de collaborations de Booba dessine une cartographie stratégique du rap français. Loin d'être aléatoires, ses featuring montrent une alternance calculée entre artistes établis et talents émergents. Cette approche lui permet de maintenir sa pertinence tout en s'imposant comme découvreur de talents, créant un écosystème dont il reste le centre de gravité.\"\n",
    "\n",
    "### Impact sur la popularité\n",
    "\n",
    "- Les morceaux **sans featuring** ont en moyenne une **meilleure popularité** (~42/100).\n",
    "\n",
    "![graph_reseau_collaborations.png](reseau_collab.png)\n",
    "\n",
    "![pie_collaborateurs_types.png](pie_collab.png)\n",
    "\n",
    "\n",
    "\n",
    "![barplot_popularite_feats.png](boxplot_feat_popularité.png)"
   ]
  },
  {
   "cell_type": "markdown",
   "metadata": {},
   "source": [
    "## 4. Cohérence et évolution par album\n",
    "\n",
    "Les variations de cohérence structurelle entre albums ne sont pas des inconsistances mais des choix artistiques délibérés. Cette alternance entre albums fortement structurés (0.44 de cohérence) et projets plus expérimentaux témoigne d'une gestion maîtrisée du risque artistique, permettant innovation sans aliénation du public.\n",
    "\n",
    "![coherence.png](coherence.png)\n"
   ]
  },
  {
   "cell_type": "markdown",
   "metadata": {},
   "source": [
    "## 5. L’évolution du vocabulaire et des champs lexicaux\n",
    "\n",
    "Un des marqueurs clés de la longévité artistique est l'évolution du langage utilisé. L'analyse a révélé :\n",
    "\n",
    "L’évolution linguistique de Booba au fil des deux dernières décennies témoigne d’une transformation artistique marquante. L’analyse temporelle des thématiques met en évidence une montée progressive des motifs liés à la réflexion personnelle et aux choix de vie (\"Vie & Décisions\", ligne bleue ascendante), en parallèle d’un recul relatif des thématiques plus ancrées dans la rue, la résilience sociale ou les origines identitaires (lignes orange et violette en déclin).\n",
    "\n",
    "Sur le plan stylistique, les indicateurs de diversité lexicale confirment non seulement une stabilité mais une nette amélioration, particulièrement dans les albums récents comme AD VITAM ÆTERNAM. Le ratio de diversité (illustré par la ligne bleue du dernier graphique) suit une tendance haussière constante entre 2020 et 2025, indiquant un enrichissement progressif du lexique mobilisé. Parallèlement, la proportion de mots complexes demeure stable, suggérant une capacité à maintenir un niveau de complexité élevé tout en variabilisant le vocabulaire.\n",
    "\n",
    "Cette double dynamique – évolution thématique et raffinement lexical – reflète une maturation artistique : Booba enrichit son langage et affine ses propos sans jamais diluer la densité de son écriture, traduisant ainsi une volonté d’aligner profondeur narrative et exigence formelle avec son parcours personnel et créatif.\n",
    "\n",
    "\n",
    "![champlexicalfildutemps.png](theme_fil_du_temps.png)\n",
    "![line_vocabulaire_unique.png](diversité_lexical.png)"
   ]
  },
  {
   "cell_type": "markdown",
   "metadata": {},
   "source": [
    "## 6. Analyse temporelle de la popularité\n",
    "\n",
    "L'analyse des scores Spotify révèle un phénomène remarquable : des projets comme 'Temps mort', vieux de plus de 20 ans, maintiennent des scores de popularité (~42) rivalisant avec les sorties récentes. Cette résilience temporelle, particulièrement inhabituelle dans le rap français, démontre que le catalogue de Booba transcende les époques, avec des albums anciens qui continuent de résonner auprès des nouvelles générations d'auditeurs. La progression vers des pics récents ('AD VITAM ÆTERNAM' ~50) confirme non seulement sa pertinence actuelle mais valide également la qualité intemporelle de ses premiers projets.\n",
    "\n",
    "Cette stabilité dans la consommation est un indicateur fort de **pénétration culturelle durable**.\n",
    "\n",
    "![line_popularite_temporelle.png](popularité_mean.png)\n",
    "\n"
   ]
  },
  {
   "cell_type": "markdown",
   "metadata": {},
   "source": [
    "## 7. Approche business et médias\n",
    "\n",
    "Au-delà de la musique, Booba a su :\n",
    "\n",
    "- Construire une marque forte autour de lui : *Ünkut*, réseaux sociaux, provocations calculées.\n",
    "- Créer de l’événement autour de chaque sortie (teasing, clashs).\n",
    "- Transformer sa présence numérique en outil de fidélisation.\n",
    "\n",
    "\n",
    "\n",
    "Ces éléments soulignent une compréhension fine du fonctionnement médiatique moderne."
   ]
  },
  {
   "cell_type": "markdown",
   "metadata": {},
   "source": [
    "## Conclusion \n",
    "\n",
    "L’analyse data-driven de la carrière de Booba met en lumière les ressorts profonds de sa longévité exceptionnelle dans le paysage du rap français. Ce qui se dessine n’est pas simplement une adaptation opportuniste aux tendances, mais bien une stratégie artistique maîtrisée, fondée sur l’évolution stylistique, l’intelligence des collaborations et la capacité à réinventer sa narration tout en restant fidèle à une identité forte.\n",
    "\n",
    "Sur le plan de l’écriture, l'enrichissement progressif du vocabulaire, la densification du style et la montée en complexité thématique traduisent une maturation linguistique rare. Booba n’a cessé de faire évoluer sa plume, passant d’une expressivité brute à une forme plus précise, plus nuancée, sans jamais perdre en impact. L’évolution des structures musicales, de plus en plus courtes mais plus concentrées, témoigne aussi d’une capacité à s’adapter aux formats contemporains tout en préservant la profondeur du message.\n",
    "\n",
    "La cartographie de ses collaborations souligne une vision stratégique claire : alterner entre têtes d’affiche et jeunes talents lui permet de rester au centre du jeu tout en façonnant l’avenir du genre. Par ailleurs, l’analyse de la cohérence artistique entre les projets montre un équilibre subtil entre fidélité à sa ligne directrice et prises de risques assumées.\n",
    "\n",
    "Enfin, la résilience temporelle de sa popularité, illustrée par la longévité de titres issus de Temps Mort ou encore par les performances récentes d’AD VITAM ÆTERNAM, révèle la dimension patrimoniale de son œuvre. Booba n’est pas seulement un artiste de son époque : il en devient un marqueur culturel, dont l’impact dépasse les cycles habituels de consommation.\n",
    "\n",
    "En somme, la carrière de Booba incarne une rare alchimie entre pertinence, exigence et vision. Son parcours constitue un cas d’école de durabilité artistique à l’ère du streaming, et ce rapport en propose une lecture analytique qui souligne que sa longévité est loin d’être un hasard : c’est le fruit d’un travail continu, d’un positionnement clair, et d’une évolution réfléchie."
   ]
  }
 ],
 "metadata": {
  "kernelspec": {
   "display_name": "Python 3",
   "language": "python",
   "name": "python3"
  },
  "language_info": {
   "name": "python",
   "version": "3.8"
  }
 },
 "nbformat": 4,
 "nbformat_minor": 2
}
